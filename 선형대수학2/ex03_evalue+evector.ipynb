{
  "nbformat": 4,
  "nbformat_minor": 0,
  "metadata": {
    "colab": {
      "provenance": [],
      "authorship_tag": "ABX9TyPiu/DkHNQ0JI3TUfUPpXKf"
    },
    "kernelspec": {
      "name": "python3",
      "display_name": "Python 3"
    },
    "language_info": {
      "name": "python"
    }
  },
  "cells": [
    {
      "cell_type": "markdown",
      "source": [
        "# Part 1. Eigen values & Eigen vectors\n",
        "### 0. import libraries"
      ],
      "metadata": {
        "id": "gstge7L7uKET"
      }
    },
    {
      "cell_type": "code",
      "execution_count": 24,
      "metadata": {
        "id": "a6EFk4tQt8Uw"
      },
      "outputs": [],
      "source": [
        "import numpy as np\n",
        "import numpy.linalg as npl # Linear Algebra\n",
        "import matplotlib.pyplot as plt"
      ]
    },
    {
      "cell_type": "markdown",
      "source": [
        "### < eigen values & eigen vectors of A>\n",
        "Au = Λu"
      ],
      "metadata": {
        "id": "2yHt8aU4u59r"
      }
    },
    {
      "cell_type": "code",
      "source": [
        "A = np.array([[4,2],[1,3]]) #np.vstack([[4,2],[1,3]])\n",
        "print(\"A:\")\n",
        "print(A,\"\\n\")\n",
        "\n",
        "e_values, e_vectors = npl.eig(A)\n",
        "print(\"A의 고윳값 = \", e_values)\n",
        "print(\"A의 고유벡터 = \", e_vectors)\n",
        "\n",
        "# eigen vector u1, u2\n",
        "u1 = np.vstack(e_vectors[:, 0])\n",
        "u2 = np.vstack(e_vectors[:, 1])\n",
        "print(\"u1: \",u1)\n",
        "print(\"u2: \",u2)\n",
        "\n",
        "# eigen value lambda1, lambda2\n",
        "l1, l2 = e_values[0], e_values[1]\n",
        "print(\"eigenvalues: \",l1,l2,\"\\n\")\n",
        "\n",
        "# Check\n",
        "print(\"Au1: \",np.dot(A,u1))\n",
        "print(\"l1*u1: \", l1*u1)\n",
        "\n",
        "print(\"Au2: \",np.dot(A,u2))\n",
        "print(\"l2*u2: \",l2*u2)"
      ],
      "metadata": {
        "colab": {
          "base_uri": "https://localhost:8080/"
        },
        "id": "O1x2f1qoutKZ",
        "outputId": "842ac941-a2d0-44db-e5a1-e870d89c3f15"
      },
      "execution_count": 25,
      "outputs": [
        {
          "output_type": "stream",
          "name": "stdout",
          "text": [
            "A:\n",
            "[[4 2]\n",
            " [1 3]] \n",
            "\n",
            "A의 고윳값 =  [5. 2.]\n",
            "A의 고유벡터 =  [[ 0.89442719 -0.70710678]\n",
            " [ 0.4472136   0.70710678]]\n",
            "u1:  [[0.89442719]\n",
            " [0.4472136 ]]\n",
            "u2:  [[-0.70710678]\n",
            " [ 0.70710678]]\n",
            "eigenvalues:  5.0 2.0 \n",
            "\n",
            "Au1:  [[4.47213595]\n",
            " [2.23606798]]\n",
            "l1*u1:  [[4.47213595]\n",
            " [2.23606798]]\n",
            "Au2:  [[-1.41421356]\n",
            " [ 1.41421356]]\n",
            "l2*u2:  [[-1.41421356]\n",
            " [ 1.41421356]]\n"
          ]
        }
      ]
    },
    {
      "cell_type": "code",
      "source": [
        "B = np.array([[5,2,0],[2,5,0],[-3,4,6]])\n",
        "w2, V2 = npl.eig(B)\n",
        "\n",
        "print(\"B의 고윳값 = \", w2)\n",
        "print(\"B의 고유벡터 = \", V2)"
      ],
      "metadata": {
        "colab": {
          "base_uri": "https://localhost:8080/"
        },
        "id": "oeOmd0L6yf60",
        "outputId": "b8728ae1-9ac7-4fab-ec41-673145568fe0"
      },
      "execution_count": 26,
      "outputs": [
        {
          "output_type": "stream",
          "name": "stdout",
          "text": [
            "B의 고윳값 =  [6. 7. 3.]\n",
            "B의 고유벡터 =  [[ 0.          0.57735027  0.36650833]\n",
            " [ 0.          0.57735027 -0.36650833]\n",
            " [ 1.          0.57735027  0.85518611]]\n"
          ]
        }
      ]
    }
  ]
}